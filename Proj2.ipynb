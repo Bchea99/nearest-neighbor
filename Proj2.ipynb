{
 "cells": [
  {
   "cell_type": "code",
   "execution_count": 68,
   "metadata": {},
   "outputs": [],
   "source": [
    "import pandas as pd\n",
    "import numpy as np\n",
    "import h5py\n",
    "import matplotlib\n",
    "import math\n",
    "\n",
    "#small_data = '/Users/brandonchea/Desktop/Fall_2022/CS170/Project2/Datasets/CS170_Small_Data__91.txt'\n",
    "small_data = '/Users/brandonchea/Desktop/Fall_2022/CS170/Project2/Datasets/test/Sue/CS170_Small_Data__96.txt'\n",
    "small_data_df = pd.read_csv(small_data,\n",
    "                            sep ='  ',\n",
    "                            engine = 'python',\n",
    "                            header = None)\n",
    "\n",
    "large_data = '/Users/brandonchea/Desktop/Fall_2022/CS170/Project2/Datasets/CS170_Large_Data__103.txt'\n",
    "large_data_df = pd.read_csv(large_data, \n",
    "                         sep='  ',\n",
    "                         engine = 'python',\n",
    "                         header=None)\n",
    "\n",
    "\n",
    "#def leave_one_out_cross_validation(small_data_df,current_set,feature_to_add):\n",
    "#    accuracy = np.random.rand()\n",
    "#    return accuracy\n",
    "    "
   ]
  },
  {
   "cell_type": "code",
   "execution_count": 69,
   "metadata": {},
   "outputs": [
    {
     "name": "stdout",
     "output_type": "stream",
     "text": [
      "0.704\n"
     ]
    }
   ],
   "source": [
    "#def acc(data_df):\n",
    "def leave_one_out_cross_validation(data_df,current_set,feature_to_add):\n",
    "    number_correctly_classified = 0\n",
    "    i = 1\n",
    "    for i in range(1,len(data_df)):\n",
    "        object_to_classify = data_df.iloc[i]\n",
    "        label_object_to_classify = data_df.iloc[i][0]\n",
    "        \n",
    "        nearest_neighbor_distance = float('inf')\n",
    "        nearest_neighbor_location = float('inf')\n",
    "        \n",
    "        for k in range(1,len(data_df)):\n",
    "            if k!=i:\n",
    "                distance = math.sqrt(sum(object_to_classify - data_df.iloc[k])**2)\n",
    "                if distance < nearest_neighbor_distance:\n",
    "                    nearest_neighbor_distance = distance\n",
    "                    nearest_neighbor_location = k\n",
    "                    nearest_neighbor_label = data_df.iloc[k][0]\n",
    "                #print(\"Ask if \", i, \" is neighest neighbor with\",k)\n",
    "        \n",
    "        #print(\"Looping over i, at the \",i,\"location\")\n",
    "        #print(\"The \",i,\"th object is in class\",label_object_to_classify)\n",
    "        if label_object_to_classify == nearest_neighbor_label:\n",
    "            number_correctly_classified = number_correctly_classified + 1\n",
    "        #print(\"Object \",i, \" is class \", label_object_to_classify)\n",
    "        #print(\"It's nearest neighbor is \", nearest_neighbor_location, \" which is in class \", nearest_neighbor_label)\n",
    "    accuracy = number_correctly_classified / len(data_df)\n",
    "    print(accuracy)\n",
    "        \n",
    "acc(small_data_df)"
   ]
  },
  {
   "cell_type": "code",
   "execution_count": 74,
   "metadata": {},
   "outputs": [
    {
     "name": "stdout",
     "output_type": "stream",
     "text": [
      "On the  1  level of the search tree\n",
      "Considering adding feature  1\n",
      "Considering adding feature  2\n",
      "Considering adding feature  3\n",
      "Considering adding feature  4\n",
      "Considering adding feature  5\n",
      "Considering adding feature  6\n",
      "On level  1  I added feature 2  to current set\n",
      "[2]\n",
      "On the  2  level of the search tree\n",
      "Considering adding feature  1\n",
      "Considering adding feature  3\n",
      "Considering adding feature  4\n",
      "Considering adding feature  5\n",
      "Considering adding feature  6\n",
      "On level  2  I added feature 3  to current set\n",
      "[2, 3]\n",
      "On the  3  level of the search tree\n",
      "Considering adding feature  1\n",
      "Considering adding feature  4\n",
      "Considering adding feature  5\n",
      "Considering adding feature  6\n",
      "On level  3  I added feature 4  to current set\n",
      "[2, 3, 4]\n",
      "On the  4  level of the search tree\n",
      "Considering adding feature  1\n",
      "Considering adding feature  5\n",
      "Considering adding feature  6\n",
      "On level  4  I added feature 1  to current set\n",
      "[2, 3, 4, 1]\n",
      "On the  5  level of the search tree\n",
      "Considering adding feature  5\n",
      "Considering adding feature  6\n",
      "On level  5  I added feature 6  to current set\n",
      "[2, 3, 4, 1, 6]\n",
      "On the  6  level of the search tree\n",
      "Considering adding feature  5\n",
      "On level  6  I added feature 5  to current set\n",
      "[2, 3, 4, 1, 6, 5]\n"
     ]
    }
   ],
   "source": [
    "def feature_search_demo(data_df):\n",
    "    current_set_of_features = []\n",
    "    i = 1\n",
    "    #for i in range(len(small_data_df)-490):\n",
    "    for i in data_df.iloc[:,1:]:\n",
    "        print(\"On the \",i,\" level of the search tree\")\n",
    "        feature_to_add = []\n",
    "        best_so_far_acc = 0\n",
    "       # k = 1\n",
    "        for k in data_df.iloc[:,1:]:\n",
    "            if k not in current_set_of_features:\n",
    "                print(\"Considering adding feature \",k)\n",
    "                accuracy = leave_one_out_cross_validation(data_df,current_set_of_features,k+1)\n",
    "                \n",
    "                if (accuracy > best_so_far_acc):\n",
    "                    best_so_far_acc = accuracy\n",
    "                    feature_to_add = k\n",
    "        current_set_of_features.append(feature_to_add)\n",
    "        print(\"On level \",i,\" I added feature\",feature_to_add,\" to current set\")\n",
    "        print(current_set_of_features)\n",
    "        \n",
    "feature_search_demo(small_data_df)"
   ]
  },
  {
   "cell_type": "code",
   "execution_count": null,
   "metadata": {},
   "outputs": [],
   "source": [
    "print(small_data_df)"
   ]
  },
  {
   "cell_type": "code",
   "execution_count": null,
   "metadata": {},
   "outputs": [],
   "source": []
  },
  {
   "cell_type": "code",
   "execution_count": 7,
   "metadata": {},
   "outputs": [
    {
     "ename": "SyntaxError",
     "evalue": "invalid syntax (2644756127.py, line 3)",
     "output_type": "error",
     "traceback": [
      "\u001b[0;36m  Cell \u001b[0;32mIn [7], line 3\u001b[0;36m\u001b[0m\n\u001b[0;31m    object_to_classify = small_data_df(i,1:small_data_df.len())\u001b[0m\n\u001b[0m                                          ^\u001b[0m\n\u001b[0;31mSyntaxError\u001b[0m\u001b[0;31m:\u001b[0m invalid syntax\n"
     ]
    }
   ],
   "source": [
    "i = 1\n",
    "for i in small_data_df.len():\n",
    "    object_to_classify = small_data_df(i,1:small_data_df.len())\n",
    "    label_object_to_classify = small_data_df(i,1)\n",
    "    \n",
    "    print(\"Looping over i, at the %d\",i,\"location\")\n",
    "    print(\"The %d\",\"th object is in class \",)\n",
    "    "
   ]
  }
 ],
 "metadata": {
  "kernelspec": {
   "display_name": "Python 3.10.8 64-bit",
   "language": "python",
   "name": "python3"
  },
  "language_info": {
   "codemirror_mode": {
    "name": "ipython",
    "version": 3
   },
   "file_extension": ".py",
   "mimetype": "text/x-python",
   "name": "python",
   "nbconvert_exporter": "python",
   "pygments_lexer": "ipython3",
   "version": "3.10.8"
  },
  "orig_nbformat": 4,
  "vscode": {
   "interpreter": {
    "hash": "b0fa6594d8f4cbf19f97940f81e996739fb7646882a419484c72d19e05852a7e"
   }
  }
 },
 "nbformat": 4,
 "nbformat_minor": 2
}
