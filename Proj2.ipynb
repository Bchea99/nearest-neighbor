{
 "cells": [
  {
   "cell_type": "code",
   "execution_count": 76,
   "metadata": {},
   "outputs": [],
   "source": [
    "import pandas as pd\n",
    "import numpy as np\n",
    "import h5py\n",
    "import matplotlib\n",
    "import math\n",
    "\n",
    "#small_data = '/Users/brandonchea/Desktop/Fall_2022/CS170/Project2/Datasets/CS170_Small_Data__91.txt'\n",
    "small_data = '/Users/brandonchea/Desktop/Fall_2022/CS170/Project2/Datasets/test/Sue/CS170_Small_Data__96.txt'\n",
    "small_data_df = pd.read_csv(small_data,\n",
    "                            sep ='  ',\n",
    "                            engine = 'python',\n",
    "                            header = None)\n",
    "\n",
    "large_data = '/Users/brandonchea/Desktop/Fall_2022/CS170/Project2/Datasets/CS170_Large_Data__103.txt'\n",
    "large_data_df = pd.read_csv(large_data, \n",
    "                         sep='  ',\n",
    "                         engine = 'python',\n",
    "                         header=None)\n",
    "\n",
    "current_set_forwards = []\n",
    "current_set_backwards = small_data_df.iloc[:,1:]\n",
    "\n",
    "#forwards for now\n",
    "#we take the dataframe, we are provided a set of features\n",
    "#we wish to add a feature\n",
    "#we do this by going through the data frame, add the feature_to_add to the current set\n",
    "#then we remove the features we don't want\n",
    "#def leave_one_out_cross_validation(data_df,current_set,feature_to_add):\n",
    "\n",
    "def knn(data_df):\n",
    "    number_correctly_classified = 0\n",
    "    \n",
    "    for i in range(0,len(data_df)-1):\n",
    "        object_to_classify = data_df.iloc[i,1:]\n",
    "        label_object_to_classify = data_df.iloc[i][0]\n",
    "        \n",
    "        nearest_neighbor_distance = float('inf')\n",
    "        nearest_neighbor_location = float('inf')\n",
    "        \n",
    "        for k in range(0,len(data_df)-1):\n",
    "            if k!=i:\n",
    "                distance = math.sqrt(sum(object_to_classify - data_df.iloc[k,1:])**2)\n",
    "                if distance < nearest_neighbor_distance:\n",
    "                    nearest_neighbor_distance = distance\n",
    "                    nearest_neighbor_location = k\n",
    "                    nearest_neighbor_label = data_df.iloc[nearest_neighbor_location][0]\n",
    "                #print(\"Ask if \", i, \" is neighest neighbor with\",k)\n",
    "        \n",
    "        #print(\"Looping over i, at the \",i,\"location\")\n",
    "        #print(\"The \",i,\"th object is in class\",label_object_to_classify)\n",
    "        \n",
    "        \n",
    "        if label_object_to_classify == nearest_neighbor_label:\n",
    "            number_correctly_classified = number_correctly_classified +1\n",
    "    \n",
    "        #print(\"Object \",i, \" is class \", label_object_to_classify)\n",
    "        #print(\"It's nearest neighbor is \", nearest_neighbor_location, \" which is in class \", nearest_neighbor_label)\n",
    "    accuracy = number_correctly_classified / len(data_df)\n",
    "    \n",
    "    return accuracy\n",
    "        \n",
    "#knn(small_data_df)\n",
    "\n",
    "'''\n",
    "def leave_one_out_cross_validation(data_df,current_set,feature_to_add):\n",
    "    current_set.append(feature_to_add)\n",
    "    not_in_set = []\n",
    "    for k in current_set:\n",
    "        if k not in current_set:\n",
    "            #data_df[k].values[:] = 0 #set all column values not within current set to 0\n",
    "            data_df = data_df.drop([k],axis=1)\n",
    "\n",
    "    accuracy = knn(data_df)\n",
    "    return accuracy\n",
    "'''\n",
    "\n",
    "#current_set = [1,3,6]\n",
    "'''for k in current_set:\n",
    "        if k not in current_set:\n",
    "            #data_df[k].values[:] = 0 #set all column values not within current set to 0\n",
    "            small_data_df = small_data_df.drop([k],axis=1)'''\n",
    "    \n",
    "small_data_df = small_data_df.drop([2,4,5],axis=1)\n",
    "#small_data_df = \n",
    "#small_data_df.iloc[:,2] = 0\n",
    "#small_data_df.iloc[:,4] = 0\n",
    "#small_data_df.iloc[:,5] = 0\n",
    "#for col in small_data_df.columns\n",
    " \n",
    "#small_data_df.head()\n",
    "#knn(small_data_df)       \n",
    "#small_data_df.head()    "
   ]
  },
  {
   "cell_type": "code",
   "execution_count": 77,
   "metadata": {},
   "outputs": [
    {
     "data": {
      "text/plain": [
       "0.742"
      ]
     },
     "execution_count": 77,
     "metadata": {},
     "output_type": "execute_result"
    }
   ],
   "source": [
    "small_data_df.head(500)\n",
    "#print(len(small_data_df))\n",
    "knn(small_data_df)"
   ]
  },
  {
   "cell_type": "code",
   "execution_count": null,
   "metadata": {},
   "outputs": [],
   "source": [
    "def feature_search_demo(data_df):\n",
    "    current_set_of_features = []\n",
    "    i = 1\n",
    "    #for i in range(len(small_data_df)-490):\n",
    "    for i in data_df.iloc[:,1:]:\n",
    "        print(\"On the \",i,\" level of the search tree\")\n",
    "        feature_to_add = []\n",
    "        best_so_far_acc = 0\n",
    "       # k = 1\n",
    "        for k in data_df.iloc[:,1:]:\n",
    "            if k not in current_set_of_features:\n",
    "                print(\"Considering adding feature \",k)\n",
    "                accuracy = leave_one_out_cross_validation(data_df,current_set_of_features,k)\n",
    "                \n",
    "                if (accuracy > best_so_far_acc):\n",
    "                    best_so_far_acc = accuracy\n",
    "                    feature_to_add = k\n",
    "        current_set_of_features.append(feature_to_add)\n",
    "        print(\"On level \",i,\" I added feature\",feature_to_add,\" to current set with accuracy\",best_so_far_acc)\n",
    "        print(current_set_of_features)\n",
    "        \n",
    "feature_search_demo(small_data_df)"
   ]
  },
  {
   "cell_type": "code",
   "execution_count": 94,
   "metadata": {},
   "outputs": [
    {
     "name": "stdout",
     "output_type": "stream",
     "text": [
      "0.704\n"
     ]
    }
   ],
   "source": [
    "def knn(data_df):\n",
    "#def leave_one_out_cross_validation(data_df,current_set,feature_to_add):\n",
    "    number_correctly_classified = 0\n",
    "    \n",
    "    for i in range(1,len(data_df)):\n",
    "        object_to_classify = data_df.iloc[i]\n",
    "        label_object_to_classify = data_df.iloc[i][0]\n",
    "        \n",
    "        nearest_neighbor_distance = float('inf')\n",
    "        nearest_neighbor_location = float('inf')\n",
    "        \n",
    "        for k in range(1,len(data_df)):\n",
    "            if k!=i:\n",
    "                distance = math.sqrt(sum(object_to_classify - data_df.iloc[k])**2)\n",
    "                if distance < nearest_neighbor_distance:\n",
    "                    nearest_neighbor_distance = distance\n",
    "                    nearest_neighbor_location = k\n",
    "                    nearest_neighbor_label = data_df.iloc[nearest_neighbor_location][0]\n",
    "                #print(\"Ask if \", i, \" is neighest neighbor with\",k)\n",
    "        \n",
    "        #print(\"Looping over i, at the \",i,\"location\")\n",
    "        #print(\"The \",i,\"th object is in class\",label_object_to_classify)\n",
    "        if label_object_to_classify == nearest_neighbor_label:\n",
    "            number_correctly_classified +=1\n",
    "        #print(\"Object \",i, \" is class \", label_object_to_classify)\n",
    "        #print(\"It's nearest neighbor is \", nearest_neighbor_location, \" which is in class \", nearest_neighbor_label)\n",
    "    accuracy = number_correctly_classified / len(data_df)\n",
    "    #print(accuracy)\n",
    "    return accuracy\n",
    "        \n",
    "knn(small_data_df)"
   ]
  },
  {
   "cell_type": "code",
   "execution_count": null,
   "metadata": {},
   "outputs": [],
   "source": []
  }
 ],
 "metadata": {
  "kernelspec": {
   "display_name": "Python 3.10.8 64-bit",
   "language": "python",
   "name": "python3"
  },
  "language_info": {
   "codemirror_mode": {
    "name": "ipython",
    "version": 3
   },
   "file_extension": ".py",
   "mimetype": "text/x-python",
   "name": "python",
   "nbconvert_exporter": "python",
   "pygments_lexer": "ipython3",
   "version": "3.10.8"
  },
  "orig_nbformat": 4,
  "vscode": {
   "interpreter": {
    "hash": "b0fa6594d8f4cbf19f97940f81e996739fb7646882a419484c72d19e05852a7e"
   }
  }
 },
 "nbformat": 4,
 "nbformat_minor": 2
}
